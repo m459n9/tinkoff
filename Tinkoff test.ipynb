{
 "cells": [
  {
   "cell_type": "markdown",
   "id": "c7bcbca2",
   "metadata": {},
   "source": [
    "Предполагается, что в рамках данного задания ученики сами будут изучать документацию, как минимум используя функционал `tab` и `shift+tab` от Jupyter"
   ]
  },
  {
   "cell_type": "markdown",
   "id": "93333330",
   "metadata": {},
   "source": [
    "1. Импортируйте библиотеку pandas \n",
    "2. Считайте файл `wage.csv` в DataFrame с названием `wage`. Используйте для этого функцию pd.read_csv()\n",
    "\n",
    "`person_id` - идентификатор человека\n",
    "\n",
    "`gender` - пол, 0 - женский, 1 - мужской\n",
    "\n",
    "`wage` - заработная плата в рублях"
   ]
  },
  {
   "cell_type": "code",
   "execution_count": null,
   "id": "1c92490a",
   "metadata": {},
   "outputs": [],
   "source": [
    "import pandas as pd"
   ]
  },
  {
   "cell_type": "code",
   "execution_count": 1,
   "id": "8fb06529",
   "metadata": {},
   "outputs": [],
   "source": [
    "wage = pd.read_csv('https://edu.tinkoff.ru/files/ee13a6b1-605e-44fe-83a6-85d3d7a0b3ae')"
   ]
  },
  {
   "cell_type": "code",
   "execution_count": 7,
   "id": "57d57c3f",
   "metadata": {},
   "outputs": [
    {
     "data": {
      "text/html": [
       "<div>\n",
       "<style scoped>\n",
       "    .dataframe tbody tr th:only-of-type {\n",
       "        vertical-align: middle;\n",
       "    }\n",
       "\n",
       "    .dataframe tbody tr th {\n",
       "        vertical-align: top;\n",
       "    }\n",
       "\n",
       "    .dataframe thead th {\n",
       "        text-align: right;\n",
       "    }\n",
       "</style>\n",
       "<table border=\"1\" class=\"dataframe\">\n",
       "  <thead>\n",
       "    <tr style=\"text-align: right;\">\n",
       "      <th></th>\n",
       "      <th>person_id</th>\n",
       "      <th>gender</th>\n",
       "      <th>wage</th>\n",
       "    </tr>\n",
       "  </thead>\n",
       "  <tbody>\n",
       "    <tr>\n",
       "      <th>0</th>\n",
       "      <td>0</td>\n",
       "      <td>1</td>\n",
       "      <td>46793.603811</td>\n",
       "    </tr>\n",
       "    <tr>\n",
       "      <th>1</th>\n",
       "      <td>1</td>\n",
       "      <td>1</td>\n",
       "      <td>33481.575720</td>\n",
       "    </tr>\n",
       "    <tr>\n",
       "      <th>2</th>\n",
       "      <td>2</td>\n",
       "      <td>1</td>\n",
       "      <td>44523.699084</td>\n",
       "    </tr>\n",
       "    <tr>\n",
       "      <th>3</th>\n",
       "      <td>3</td>\n",
       "      <td>1</td>\n",
       "      <td>15995.576829</td>\n",
       "    </tr>\n",
       "    <tr>\n",
       "      <th>4</th>\n",
       "      <td>4</td>\n",
       "      <td>0</td>\n",
       "      <td>10282.631224</td>\n",
       "    </tr>\n",
       "  </tbody>\n",
       "</table>\n",
       "</div>"
      ],
      "text/plain": [
       "   person_id  gender          wage\n",
       "0          0       1  46793.603811\n",
       "1          1       1  33481.575720\n",
       "2          2       1  44523.699084\n",
       "3          3       1  15995.576829\n",
       "4          4       0  10282.631224"
      ]
     },
     "execution_count": 7,
     "metadata": {},
     "output_type": "execute_result"
    }
   ],
   "source": [
    "wage.head()"
   ]
  },
  {
   "cell_type": "markdown",
   "id": "4afd127d",
   "metadata": {},
   "source": [
    "3. Поменяйте колонку `gender` так, чтобы были записи `F` (female) и `M` (male) вместо 0 и 1"
   ]
  },
  {
   "cell_type": "code",
   "execution_count": 10,
   "id": "3b210e6f",
   "metadata": {},
   "outputs": [],
   "source": [
    "wage['gender'] = wage['gender'].apply(lambda x:'F' if x == 0 else 'M')"
   ]
  },
  {
   "cell_type": "markdown",
   "id": "5e98dc46",
   "metadata": {},
   "source": [
    "4. Давайте посчитаем среднюю зарплату у мужчин и женщин. Для этого используйте метод `groupby` со следующим синтаксисом:\n",
    "\n",
    "`dataframe.groupby(Название_колонки_для_группировки)[Перечисление_колонок_для_агрегации].функция_агрегации()`"
   ]
  },
  {
   "cell_type": "code",
   "execution_count": 11,
   "id": "c8739244",
   "metadata": {},
   "outputs": [
    {
     "data": {
      "text/plain": [
       "gender\n",
       "F    2.034616e+07\n",
       "M    2.378250e+07\n",
       "Name: wage, dtype: float64"
      ]
     },
     "execution_count": 11,
     "metadata": {},
     "output_type": "execute_result"
    }
   ],
   "source": [
    "wage.groupby('gender')['wage'].sum()"
   ]
  },
  {
   "cell_type": "markdown",
   "id": "07c182f6",
   "metadata": {},
   "source": [
    "5. Теперь взглянем внимательнее на данные и обнаружим, что некоторые люди попали в выборку несколько раз. \n",
    "    1. Найдите таких людей. Подсказка: `value_counts()`\n",
    "    0. Убедитесь, что записи по ним с одинаковым `wage`. Возможно, тут вам пригодится функция агрегации `nunique()`, отображающая количество разных значений\n",
    "    0. Избавьтесь от повторяющихся значений. Подсказка: `drop_duplicates()`"
   ]
  },
  {
   "cell_type": "code",
   "execution_count": 31,
   "id": "e94779da",
   "metadata": {},
   "outputs": [
    {
     "data": {
      "text/plain": [
       "17     2\n",
       "16     2\n",
       "15     2\n",
       "14     2\n",
       "13     2\n",
       "      ..\n",
       "342    1\n",
       "343    1\n",
       "344    1\n",
       "345    1\n",
       "999    1\n",
       "Name: person_id, Length: 1000, dtype: int64"
      ]
     },
     "execution_count": 31,
     "metadata": {},
     "output_type": "execute_result"
    }
   ],
   "source": [
    "wage['person_id'].value_counts()"
   ]
  },
  {
   "cell_type": "code",
   "execution_count": 27,
   "id": "7e584d5e",
   "metadata": {},
   "outputs": [
    {
     "data": {
      "text/plain": [
       "1000"
      ]
     },
     "execution_count": 27,
     "metadata": {},
     "output_type": "execute_result"
    }
   ],
   "source": [
    "wage['wage'].nunique()"
   ]
  },
  {
   "cell_type": "code",
   "execution_count": 32,
   "id": "03fcfa2d",
   "metadata": {},
   "outputs": [],
   "source": [
    "wage.drop_duplicates(subset=['wage','person_id'], inplace= True)"
   ]
  },
  {
   "cell_type": "markdown",
   "id": "aacbb590",
   "metadata": {},
   "source": [
    "6. Теперь посмотрим внимательнее на зарплаты\n",
    "    1. Охарактеризуйте имеющиеся данные по зарплатам. Подсказка: `describe`\n",
    "    1. Избавьтесь от бессмысленных значений"
   ]
  },
  {
   "cell_type": "code",
   "execution_count": 34,
   "id": "771e9bc0",
   "metadata": {},
   "outputs": [
    {
     "data": {
      "text/plain": [
       "count      1000.000000\n",
       "mean      43694.227404\n",
       "std       55352.539343\n",
       "min     -287418.645743\n",
       "25%       14489.682367\n",
       "50%       27309.529498\n",
       "75%       52021.080258\n",
       "max      755320.874132\n",
       "Name: wage, dtype: float64"
      ]
     },
     "execution_count": 34,
     "metadata": {},
     "output_type": "execute_result"
    }
   ],
   "source": [
    "wage['wage'].describe()"
   ]
  },
  {
   "cell_type": "code",
   "execution_count": 36,
   "id": "a0a28fd3",
   "metadata": {},
   "outputs": [],
   "source": [
    "wage = wage[wage['wage'] >= 0]"
   ]
  },
  {
   "cell_type": "markdown",
   "id": "1e69085c",
   "metadata": {},
   "source": [
    "7. Давайте теперь посмотрим на зарплату с учетом бонуса. Для этого нам понадобится таблица `bonus.csv`. Считайте ее в переменную `bonus`. Заметьте, что она сохранена немного в другом формате, и вам понадобится уточнить параметр `sep` - разделитель записей. Сравните текущий файл с предыдущим и попробуйте решить проблему"
   ]
  },
  {
   "cell_type": "code",
   "execution_count": 39,
   "id": "76f19fd6",
   "metadata": {},
   "outputs": [],
   "source": [
    "bonus = pd.read_csv('https://edu.tinkoff.ru/files/c177edc7-6e8e-4e53-8f5d-098bd95cc4de', sep = ';')"
   ]
  },
  {
   "cell_type": "code",
   "execution_count": 40,
   "id": "45eee802",
   "metadata": {},
   "outputs": [
    {
     "data": {
      "text/html": [
       "<div>\n",
       "<style scoped>\n",
       "    .dataframe tbody tr th:only-of-type {\n",
       "        vertical-align: middle;\n",
       "    }\n",
       "\n",
       "    .dataframe tbody tr th {\n",
       "        vertical-align: top;\n",
       "    }\n",
       "\n",
       "    .dataframe thead th {\n",
       "        text-align: right;\n",
       "    }\n",
       "</style>\n",
       "<table border=\"1\" class=\"dataframe\">\n",
       "  <thead>\n",
       "    <tr style=\"text-align: right;\">\n",
       "      <th></th>\n",
       "      <th>person_id</th>\n",
       "      <th>bonus</th>\n",
       "    </tr>\n",
       "  </thead>\n",
       "  <tbody>\n",
       "    <tr>\n",
       "      <th>0</th>\n",
       "      <td>905</td>\n",
       "      <td>85059.638382</td>\n",
       "    </tr>\n",
       "    <tr>\n",
       "      <th>1</th>\n",
       "      <td>836</td>\n",
       "      <td>7703.346074</td>\n",
       "    </tr>\n",
       "    <tr>\n",
       "      <th>2</th>\n",
       "      <td>287</td>\n",
       "      <td>3120.269742</td>\n",
       "    </tr>\n",
       "    <tr>\n",
       "      <th>3</th>\n",
       "      <td>548</td>\n",
       "      <td>5347.987142</td>\n",
       "    </tr>\n",
       "    <tr>\n",
       "      <th>4</th>\n",
       "      <td>575</td>\n",
       "      <td>137257.490614</td>\n",
       "    </tr>\n",
       "  </tbody>\n",
       "</table>\n",
       "</div>"
      ],
      "text/plain": [
       "   person_id          bonus\n",
       "0        905   85059.638382\n",
       "1        836    7703.346074\n",
       "2        287    3120.269742\n",
       "3        548    5347.987142\n",
       "4        575  137257.490614"
      ]
     },
     "execution_count": 40,
     "metadata": {},
     "output_type": "execute_result"
    }
   ],
   "source": [
    "bonus.head()"
   ]
  },
  {
   "cell_type": "markdown",
   "id": "cc246130",
   "metadata": {},
   "source": [
    "8. Чтобы посчитать итоговую зарплату, нам нужно по каждому человеку знать и оклад, и премию. Для этого надо будет соединить (сджойнить) таблицы по `person_id`. Используйте для этого функцию `pd.merge`. Помните, что параметр `how` должен быть `'outer'`, чтобы сохранить те записи, что есть только в одной таблице. Результат запишите в новый dataframe `df`"
   ]
  },
  {
   "cell_type": "code",
   "execution_count": 41,
   "id": "dbe9c940",
   "metadata": {},
   "outputs": [],
   "source": [
    "df = wage.merge(bonus, how = 'outer', on = 'person_id')"
   ]
  },
  {
   "cell_type": "code",
   "execution_count": 43,
   "id": "d7599860",
   "metadata": {},
   "outputs": [
    {
     "data": {
      "text/html": [
       "<div>\n",
       "<style scoped>\n",
       "    .dataframe tbody tr th:only-of-type {\n",
       "        vertical-align: middle;\n",
       "    }\n",
       "\n",
       "    .dataframe tbody tr th {\n",
       "        vertical-align: top;\n",
       "    }\n",
       "\n",
       "    .dataframe thead th {\n",
       "        text-align: right;\n",
       "    }\n",
       "</style>\n",
       "<table border=\"1\" class=\"dataframe\">\n",
       "  <thead>\n",
       "    <tr style=\"text-align: right;\">\n",
       "      <th></th>\n",
       "      <th>person_id</th>\n",
       "      <th>gender</th>\n",
       "      <th>wage</th>\n",
       "      <th>bonus</th>\n",
       "    </tr>\n",
       "  </thead>\n",
       "  <tbody>\n",
       "    <tr>\n",
       "      <th>0</th>\n",
       "      <td>0</td>\n",
       "      <td>M</td>\n",
       "      <td>46793.603811</td>\n",
       "      <td>3.332934e+04</td>\n",
       "    </tr>\n",
       "    <tr>\n",
       "      <th>1</th>\n",
       "      <td>1</td>\n",
       "      <td>M</td>\n",
       "      <td>33481.575720</td>\n",
       "      <td>NaN</td>\n",
       "    </tr>\n",
       "    <tr>\n",
       "      <th>2</th>\n",
       "      <td>2</td>\n",
       "      <td>M</td>\n",
       "      <td>44523.699084</td>\n",
       "      <td>3.192912e+06</td>\n",
       "    </tr>\n",
       "    <tr>\n",
       "      <th>3</th>\n",
       "      <td>3</td>\n",
       "      <td>M</td>\n",
       "      <td>15995.576829</td>\n",
       "      <td>2.196858e+04</td>\n",
       "    </tr>\n",
       "    <tr>\n",
       "      <th>4</th>\n",
       "      <td>4</td>\n",
       "      <td>F</td>\n",
       "      <td>10282.631224</td>\n",
       "      <td>NaN</td>\n",
       "    </tr>\n",
       "  </tbody>\n",
       "</table>\n",
       "</div>"
      ],
      "text/plain": [
       "   person_id gender          wage         bonus\n",
       "0          0      M  46793.603811  3.332934e+04\n",
       "1          1      M  33481.575720           NaN\n",
       "2          2      M  44523.699084  3.192912e+06\n",
       "3          3      M  15995.576829  2.196858e+04\n",
       "4          4      F  10282.631224           NaN"
      ]
     },
     "execution_count": 43,
     "metadata": {},
     "output_type": "execute_result"
    }
   ],
   "source": [
    "df.head()"
   ]
  },
  {
   "cell_type": "markdown",
   "id": "3a6d33f0",
   "metadata": {},
   "source": [
    "9. Наконец, давайте посчитаем итоговую зарплату\n",
    "    1. Замените отсутствующие записи в колонке `bonus` нулями\n",
    "    1. Уберите людей без `wage` - это те \"плохие\" записи, от которых мы избавлялись на предыдущих шагах\n",
    "    1. Сделайте новую колонку `total`, которая будет равна 12 окладам и премии\n",
    "    1. Посчитайте среднюю и медианную итоговую зарплату в разрезе по полу. Подсказка: вместо функции агрегации можно написать `.agg()` и перечислить внутри нужные агрегаты"
   ]
  },
  {
   "cell_type": "code",
   "execution_count": 45,
   "id": "b09d0cea",
   "metadata": {},
   "outputs": [],
   "source": [
    "df['bonus'] = df['bonus'].fillna(0)"
   ]
  },
  {
   "cell_type": "code",
   "execution_count": 48,
   "id": "754c6618",
   "metadata": {},
   "outputs": [],
   "source": [
    "df['wage'] = df['wage'].dropna()"
   ]
  },
  {
   "cell_type": "code",
   "execution_count": 49,
   "id": "d893dcf6",
   "metadata": {},
   "outputs": [],
   "source": [
    "df['total'] = 12 * df['wage'] + df['bonus']"
   ]
  },
  {
   "cell_type": "code",
   "execution_count": 53,
   "id": "333031b3",
   "metadata": {},
   "outputs": [
    {
     "data": {
      "text/html": [
       "<div>\n",
       "<style scoped>\n",
       "    .dataframe tbody tr th:only-of-type {\n",
       "        vertical-align: middle;\n",
       "    }\n",
       "\n",
       "    .dataframe tbody tr th {\n",
       "        vertical-align: top;\n",
       "    }\n",
       "\n",
       "    .dataframe thead th {\n",
       "        text-align: right;\n",
       "    }\n",
       "</style>\n",
       "<table border=\"1\" class=\"dataframe\">\n",
       "  <thead>\n",
       "    <tr style=\"text-align: right;\">\n",
       "      <th></th>\n",
       "      <th>gender</th>\n",
       "      <th>median</th>\n",
       "      <th>mean</th>\n",
       "    </tr>\n",
       "  </thead>\n",
       "  <tbody>\n",
       "    <tr>\n",
       "      <th>0</th>\n",
       "      <td>F</td>\n",
       "      <td>347622.913892</td>\n",
       "      <td>570746.139432</td>\n",
       "    </tr>\n",
       "    <tr>\n",
       "      <th>1</th>\n",
       "      <td>M</td>\n",
       "      <td>437499.824868</td>\n",
       "      <td>657142.490282</td>\n",
       "    </tr>\n",
       "  </tbody>\n",
       "</table>\n",
       "</div>"
      ],
      "text/plain": [
       "  gender         median           mean\n",
       "0      F  347622.913892  570746.139432\n",
       "1      M  437499.824868  657142.490282"
      ]
     },
     "execution_count": 53,
     "metadata": {},
     "output_type": "execute_result"
    }
   ],
   "source": [
    "df.groupby('gender')['total'].agg(['median','mean']).reset_index()"
   ]
  },
  {
   "cell_type": "markdown",
   "id": "254d0528",
   "metadata": {},
   "source": [
    "10. Сохраните `df` в файл, используя метод `to_csv()`. Не записывайте индексы"
   ]
  },
  {
   "cell_type": "code",
   "execution_count": 54,
   "id": "3e49c089",
   "metadata": {},
   "outputs": [],
   "source": [
    "df.to_csv('tinkoff_case.csv')"
   ]
  },
  {
   "cell_type": "code",
   "execution_count": null,
   "id": "d18e0631",
   "metadata": {},
   "outputs": [],
   "source": []
  }
 ],
 "metadata": {
  "kernelspec": {
   "display_name": "Python 3 (ipykernel)",
   "language": "python",
   "name": "python3"
  },
  "language_info": {
   "codemirror_mode": {
    "name": "ipython",
    "version": 3
   },
   "file_extension": ".py",
   "mimetype": "text/x-python",
   "name": "python",
   "nbconvert_exporter": "python",
   "pygments_lexer": "ipython3",
   "version": "3.10.4"
  },
  "toc": {
   "base_numbering": 1,
   "nav_menu": {},
   "number_sections": true,
   "sideBar": true,
   "skip_h1_title": false,
   "title_cell": "Table of Contents",
   "title_sidebar": "Contents",
   "toc_cell": false,
   "toc_position": {},
   "toc_section_display": true,
   "toc_window_display": false
  }
 },
 "nbformat": 4,
 "nbformat_minor": 5
}
